{
  "nbformat": 4,
  "nbformat_minor": 0,
  "metadata": {
    "colab": {
      "name": "trabalho2_machine_learning.ipynb",
      "provenance": [],
      "collapsed_sections": []
    },
    "kernelspec": {
      "name": "python3",
      "display_name": "Python 3"
    },
    "language_info": {
      "name": "python"
    }
  },
  "cells": [
    {
      "cell_type": "markdown",
      "metadata": {
        "id": "s0feivKVT10Z"
      },
      "source": [
        "# **Trabalho 2: Disciplina Machine Learning. DCC-UFMG**\n",
        "\n",
        "## **Aluno:** Gustavo Henrique Pereira Godinho\n",
        "\n",
        "O objetivo desse trabalho prático é ganhar experiência com o processo de Boosting. Aqui será implementado o processo de Boosting visto em sala de aula, o algoritmo **Adaboost** para um problema de classificação binária com atributos categóricos. O dataset utilizado será o *tic-tac-toe*, disponível em https://archive.ics.uci.edu/ml/datasets/Tic-Tac-Toe+Endgame. Esse dataset contém vários jogos da velha e o objetivo é estimar quando o jogador que joga com 'x' vence.\n",
        "\n",
        "### **Implementação do algoritmo**\n",
        "\n",
        "O primeiro passo é importar os pacotes necessários para implementar as funções do **Adaboost**. Eles são: o *pandas* que serve para manipular dataframes e vai ser muito útil para as funções que serão usadas, o *math* e *numpy* que são os pacotes básicos de matemática e manipulação algébrica do python, respectivamente. O *matplotlib* para fazer gráficos e do sklearn eu vou usar a função para fazer a validação cruzada.\n"
      ]
    },
    {
      "cell_type": "code",
      "metadata": {
        "id": "-HZZw60G-taA"
      },
      "source": [
        "import pandas as pd\n",
        "import math\n",
        "import numpy as np\n",
        "import matplotlib.pyplot as plt\n",
        "from sklearn.model_selection import StratifiedKFold"
      ],
      "execution_count": 1,
      "outputs": []
    },
    {
      "cell_type": "markdown",
      "metadata": {
        "id": "9OzjHAYqW-Bj"
      },
      "source": [
        "A primeira função é a **calcula_erros**. O objetivo dessa função é calcular a soma dos pesos das observações presentes nos dados onde determinada *decision stump* errou. Essa função é fundamental para avaliar qual será a variável que estará na *decision stump* de cada iteração."
      ]
    },
    {
      "cell_type": "code",
      "metadata": {
        "id": "-FsfF4sPBZZN"
      },
      "source": [
        "def calcula_erros(X, stump, y, classe_positiva, pesos, valor = None, retornar_observacoes = False):\n",
        "#\"\"\" Argumentos:\n",
        "#  @ X: dataframe com as covariáveis.\n",
        "#  @ stump: string com o nome da covariável que servirá para a decision stump decidir ou não se a \n",
        "#           observação tem predição positiva ou predição negativa.\n",
        "#  @ y: dataframe com uma coluna ou pandas.series com a variável resposta (variável alvo). \n",
        "#  @ classe_positiva: string com o nome da classe positiva da variável resposta (variável alvo).\n",
        "#  @ pesos: lista ou pandas.series com os pesos das observações do conjunto de dados.\n",
        "#  @ valor: valor que a covariável da stump assume. Lembrando do exemplo visto em aula do Vampiro, \n",
        "#           essa variável assumiria valores 'Y' ou 'N'. Aqui ela funcionará com uma pequena modificação.\n",
        "#  @ retornar_observacoes: Esse argumento se verdadeiro retorna uma lista booleana com True nas posições \n",
        "#                          onde a decision_stump errou a predição.\n",
        "#--------------------------------------------------------------------------------------------------\n",
        "# Explicação funcionamento da função:\n",
        "#  @ A estrutura condicional no início da função serve para conseguirmos considerar as stumps que estimam\n",
        "#    todas as observações na classe positiva ou todas as observações na classe negativa. No estado else há\n",
        "#    a o cálculo dos erros para uma stump sendo variável.\n",
        "#  @ A variável erros_predicao_stump será uma lista com valores booleanos, onde as posições dessa lista serão iguais \n",
        "#    a True nas observações que a stump fez previsões errados.\n",
        "#  @ A variável erro será uma soma ponderada pelos pesos da lista com valores booleanos (erros_predicao_stump). \n",
        "#    Lembrando que a multiplicação dos pesos pelas predições certas da stump será igual a 0, pois multiplicação \n",
        "#    de float por booleano False é igual a 0. Logo essa variável guardará apenas a soma das previsões erradas \n",
        "#    da stump.\n",
        "#  @ A última condicional se refere apenas ao retorno da função. A variável usada na stump e o valor também usado \n",
        "#    na stump sempre estarão no retorno, assim como a soma ponderada dos erros. A diferença é o retorno ou não da\n",
        "#    lista com valores booleanos com True nas posições das observações com previsão errada na stump. \n",
        "#\"\"\"\n",
        "\n",
        "  if stump == True:\n",
        "    erros_predicao_stump = (y != classe_positiva)\n",
        "  elif stump == False:\n",
        "    erros_predicao_stump = (y == classe_positiva)\n",
        "  else:\n",
        "    erros_predicao_stump = ((X[stump] == valor) != (y == classe_positiva))\n",
        "\n",
        "  erro = sum([x*y for x, y in zip(erros_predicao_stump.to_list(), pesos.to_list())])\n",
        "\n",
        "  if retornar_observacoes:\n",
        "    return {'var': stump, 'val': valor, 'erro_stump': erro, 'mal_classificadas': erros_predicao_stump.to_list()}   \n",
        "  else:\n",
        "    return pd.DataFrame({'var': stump, 'val': valor, 'erro_stump': erro}, index = [0])"
      ],
      "execution_count": 2,
      "outputs": []
    },
    {
      "cell_type": "markdown",
      "metadata": {
        "id": "OUpDkGhqd1yx"
      },
      "source": [
        "A função **atualiza_pesos** faz justamente o que o nome diz. Para as observações onde a previsão da stump está errada, é necessário aumentar o peso dessas observações para que seja mais improvável que elas estejam entre as previsões erradas na próxima iteração. A fórmula para mudança dos pesos para observaçções erradas é dada por: $$p_{j, i+1} = p_{j, i} + exp\\{\\alpha\\}$$\n",
        "\n",
        "e para observações corretas é dada por: $$p_{j, i+1} = p_{j, i} + exp\\{-\\alpha\\}$$\n",
        "\n",
        "Onde $p_{i, j}$ é o peso da observação $j$ na iteração $i$.\n",
        "\n"
      ]
    },
    {
      "cell_type": "code",
      "metadata": {
        "id": "ZENeGLbg_mPn"
      },
      "source": [
        "def atualiza_pesos(ind_erro, peso_atual, alpha):\n",
        "#\"\"\"\n",
        "#Argumentos:\n",
        "#  @ ind_erro: indicação de erro na observação. Se True então quer dizer que a observação foi classificada de forma incorreta.\n",
        "#  @ peso_atual: peso atual da observação.\n",
        "#  @ alpha: valor do parâmetro alfa que servirá para ponderar a decision_stump e que também serve para atualizar os pesos das observações.\n",
        "#--------------------------------------------------------------------------------------------------\n",
        "#Explicação funcionamento da função:\n",
        "#  @ A estrutura condicional retorna o novo peso para uma observação do conjunto de dados. Quando a previsão da classe foi feita de maneira \n",
        "#    incorreta pela decision_stump, o valor de retorno será maior que o peso atual já que alpha é positivo. Quando a previsão da classe foi\n",
        "#    feita de maneira correta pela decision_stump, o valor de retorno será menor que o peso atual, já que será multiplicado pela exponencial\n",
        "#    de um número negativo. \n",
        "#\"\"\"\n",
        "  if ind_erro:\n",
        "    return peso_atual * math.e**alpha \n",
        "  else:\n",
        "    return peso_atual * math.e**(-alpha)"
      ],
      "execution_count": 3,
      "outputs": []
    },
    {
      "cell_type": "markdown",
      "metadata": {
        "id": "3GArDQFsjUNg"
      },
      "source": [
        "A função **corrigindo_nomes_stumps** é apenas uma função auxiliar para corrigir o retorno da decision_stump. É apenas uma função auxiliar que serve para formatar melhor a saída das stumps. Não interfere para o funcionamento do algoritmo. "
      ]
    },
    {
      "cell_type": "code",
      "metadata": {
        "id": "RL-IFExkwprD"
      },
      "source": [
        "def corrigindo_nomes_stumps(df):\n",
        "#\"\"\"\n",
        "#Argumentos:\n",
        "#  @ df: dataframe de uma linha que é exatamente a saída da função calcula_pesos.\n",
        "#--------------------------------------------------------------------------------------------------\n",
        "#Explicação funcionamento da função:\n",
        "#  @ Essa função só adiciona duas colunas a saída da função calcula_pesos. Se a stump é uma das covariáveis,\n",
        "#    então é necessário separar a variável do valor já que fazemos a matriz de covariáveis passar por um \n",
        "#    processo de virar variáveis 'dummies' no início da função de ajuste do algoritmo Adaboost. Se a decision\n",
        "#    stump não é uma covariável e é do tipo: todas as previsões geradas pela stump como positiva ou negativa,\n",
        "#    então não precisamos mudar o nome da variável e o valor presente na decision stump. \n",
        "#\"\"\"\n",
        "  ind = df.index[0]\n",
        "  if isinstance(df['var'][ind], str):\n",
        "    obj = df['var'][ind].split('_')\n",
        "    df1 = pd.DataFrame({'variavel': obj[0], 'valor': obj[1]}, index = [ind])\n",
        "  else:\n",
        "    df1 = pd.DataFrame({'variavel': df['var'][ind], 'valor': df['val'][ind]}, index = [ind])  \n",
        "\n",
        "  return pd.concat([df, df1], axis = 1)\n"
      ],
      "execution_count": 4,
      "outputs": []
    },
    {
      "cell_type": "markdown",
      "metadata": {
        "id": "9cx_xUDvlcx2"
      },
      "source": [
        "A função **executa_adaboost** é a principal para implementação do algoritmo. Essa função usa dos dados de entrada para a cada iteração achar a *decision_stump* que minimiza a soma dos pesos das observações erradas e a partir disso, calcula o $\\alpha$ da iteração e atualiza os pesos das observações para seguir para a próxima."
      ]
    },
    {
      "cell_type": "code",
      "metadata": {
        "id": "Amvs5EVB7-ia"
      },
      "source": [
        "def executa_adaboost(X, y, classe_positiva, num_iteracoes):\n",
        "#\"\"\"\n",
        "#Argumentos:\n",
        "#  @ X: dataframe com as covariáveis.\n",
        "#  @ y: dataframe com uma coluna ou pandas.series com a variável resposta (variável alvo). \n",
        "#  @ classe_positiva: string com o nome da classe positiva da variável resposta (variável alvo).\n",
        "#  @ num_iteracoes: número inteiro com o número de iterações que o Adaboost irá executar.\n",
        "#--------------------------------------------------------------------------------------------------\n",
        "#Explicação funcionamento da função:\n",
        "#  @ O primeiro passo dessa função é modificar o dataframe de covariáveis X o expandindo para criar\n",
        "#    as variáveis dummies. Todas as covariáveis armazenadas em X terão valores 0 ou 1 depois disso.\n",
        "#    O segundo passo é a criação da lista que guardará todas as stumps possíveis para o problema, essa\n",
        "#    lista será guardada no objeto total_stumps. Também é criado objetos para guardar informações \n",
        "#    importantes de cada uma das iterações, como os pesos das observações, qual stump foi escolhida a \n",
        "#    cada iteração e os pesos de cada uma das hipóteses fracas (alphas).\n",
        "#  @ A primeira estrutura condicional é apenas para evitar da função retornar um erro se for colocada\n",
        "#    um número de iterações não-positivo.\n",
        "#  @ Dado que o número de iterações é positivo, então há um loop nessas iterações.\n",
        "#    @ Dentro do loop de uma iteração, o primeiro passo é criar uma lista que guardará os resultados da\n",
        "#      iteração.\n",
        "#    @ Após isso, entramos em outro loop que para todas as stumps possíveis para os dados, calcula a soma\n",
        "#      ponderada dos erros com os respectivos pesos das iterações.\n",
        "#    @ No objeto tbl_resultados é criado um dataframe a partir dos resultados dos erros das stumps na \n",
        "#      iteração. Nesse dataframe as stumps estão ordenadas pela ordem crescente dos erros e também é feito\n",
        "#      um filtro para selecionar apenas as stumps que obtiveram soma dos pesos maior que zero. (Se a soma \n",
        "#      dos pesos da stump escolhida é igual a zero, então o alpha fica indeterminado e o algoritmo dá erro).\n",
        "#    @ A stump com o menor erro positivo é salva em tbl_stumps e é assumida como a stump escolhida para \n",
        "#      aquela iteração. Daí é calculada o alpha da iteração e daí atualizado os pesos das observações para \n",
        "#      a próxima iteração.  \n",
        "#  @ Ao sair do loop das iterações é concatenado os resultados e o retorno da função é um dicionário com \n",
        "#    duas tabelas: a primeira delas com detalhes de cada uma das stumps nas iterações e a segunda com os \n",
        "#    pesos de cada uma das observações ao longo das iterações.  \n",
        "#\"\"\"    \n",
        "  X = pd.get_dummies(X)\n",
        "  total_stumps = [(x, y) for x in X.columns for y in [1]] + [(True, None), (False, None)]\n",
        "\n",
        "  tbl_pesos = pd.DataFrame([1/X.shape[0]] * X.shape[0])\n",
        "  tbl_stumps = []\n",
        "  lst_alpha = []\n",
        "\n",
        "  if num_iteracoes <= 0:\n",
        "    print(\"Defina um número positivo de iterações.\")\n",
        "    return None\n",
        "  else:\n",
        "    for i in range(num_iteracoes):\n",
        "      resultados = []\n",
        "      for item in total_stumps:\n",
        "        resultados.append(calcula_erros(X = X, stump = item[0], valor = item[1], y = y, \n",
        "                                        classe_positiva = classe_positiva, pesos = tbl_pesos.iloc[:, -1]))\n",
        "\n",
        "      tbl_resultados = pd.concat(resultados).\\\n",
        "          sort_values(by = 'erro_stump', axis = 0, ascending = True).\\\n",
        "              query(\"erro_stump > 0\")\n",
        "        \n",
        "      tbl_stumps.append(tbl_resultados.iloc[[0]])\n",
        "      alpha_iteracao = math.log((1-min(tbl_resultados['erro_stump']))/min(tbl_resultados['erro_stump']))/2\n",
        "\n",
        "      calculo_stump_escolhida = calcula_erros(X = X, stump = pd.concat(tbl_stumps)['var'].iloc[-1], valor = pd.concat(tbl_stumps)['val'].iloc[-1], \n",
        "                                              y = y, classe_positiva = classe_positiva, pesos = tbl_pesos.iloc[:, -1], retornar_observacoes = True)\n",
        "      \n",
        "      novos_pesos = [atualiza_pesos(ind_erro = item[0], peso_atual = item[1], alpha = alpha_iteracao) for item in list(zip(calculo_stump_escolhida['mal_classificadas'], tbl_pesos.iloc[:, -1].to_list()))]\n",
        "      novos_pesos = list(map(lambda x: x/sum(novos_pesos), novos_pesos))\n",
        "\n",
        "      tbl_pesos = pd.concat([tbl_pesos, pd.DataFrame(novos_pesos)], axis = 1)\n",
        "      lst_alpha.append(alpha_iteracao)\n",
        "\n",
        "    tbl_pesos.columns = ['iter_' + str(i) for i in range(tbl_pesos.shape[1])]\n",
        "    tbl_pesos = tbl_pesos.iloc[:, :-1]\n",
        "    tbl_stumps = pd.concat(tbl_stumps)\n",
        "    tbl_stumps.index = range(tbl_stumps.shape[0])\n",
        "    tbl_stumps['alpha'] = lst_alpha\n",
        "    \n",
        "    tbl_stumps = pd.concat([corrigindo_nomes_stumps(tbl_stumps.iloc[[i]]) for i in range(tbl_stumps.shape[0])], axis = 0).drop(['var', 'val'], axis = 1)\n",
        "\n",
        "    return {'stumps': tbl_stumps, 'pesos': tbl_pesos}\n"
      ],
      "execution_count": 5,
      "outputs": []
    },
    {
      "cell_type": "markdown",
      "metadata": {
        "id": "rfBnJVuisLVv"
      },
      "source": [
        "As três próximas funções são necessárias para a predição de novos casos. Para fazer isso é necessário fazer a soma ponderada pelos $\\alpha's$ das hipóteses fracas (stumps) e no final verificar o sinal dessa soma.\n",
        "\n",
        "A primeira das funções é a **calcula_sinal** se o valor booleano for True, se retorna 1, se for False então retornamos -1."
      ]
    },
    {
      "cell_type": "code",
      "metadata": {
        "id": "FcYVCyOl5wc2"
      },
      "source": [
        "def calcula_sinal(valor_booleano):\n",
        "  if valor_booleano:\n",
        "    return 1\n",
        "  else:\n",
        "    return -1"
      ],
      "execution_count": 6,
      "outputs": []
    },
    {
      "cell_type": "markdown",
      "metadata": {
        "id": "ZK7urdVDu_cN"
      },
      "source": [
        "A próxima função **predicao_valor** calcula para uma nova observação qual seria a estimativa desse ponto em cada uma das stumps estimadas e daí faz a soma ponderada desses classificadores fracos pelos pesoas $\\alpha$ associados a esses classificadores."
      ]
    },
    {
      "cell_type": "code",
      "metadata": {
        "id": "Pa7Kkv8I4G9p"
      },
      "source": [
        "def predicao_valor(novo_x, stumps):\n",
        "#\"\"\"\n",
        "#Argumentos:\n",
        "#  @ novo_x: dataframe de uma linha com as covariáveis.\n",
        "#  @ stumps: dataframe com as stumps estimadas no treinamento do modelo.\n",
        "#--------------------------------------------------------------------------------------------------\n",
        "#Explicação funcionamento da função:\n",
        "#  @ O primeiro passo dessa função é criar uma lista para guardar as predições de cada um \n",
        "#    dos classificadores fracos.\n",
        "#  @ Daí para cada decision stump feita nas iterações do algoritmo, é calculada a previsão \n",
        "#    de em qual classe a observação fica. Se True, então a observação é estimada como classe\n",
        "#    positiva, Se False então a observação é estimada na classe negativa.\n",
        "#  @ O retorno dessa função é um valor real (positivo ou negativo) que é fruto da soma \n",
        "#    ponderada das estimativas de cada um dos classificadores fracos pelos correspondentes \n",
        "#    alfas associados.\n",
        "#\"\"\"  \n",
        "  predicoes = []\n",
        "  for item in range(stumps.shape[0]):\n",
        "    if isinstance(stumps['variavel'][item], str):\n",
        "      predicoes.append( novo_x[stumps['variavel'][item]].iloc[0] == stumps['valor'][item])\n",
        "    elif stumps['variavel'][item] == True :\n",
        "      predicoes.append(True)\n",
        "    else:\n",
        "      predicoes.append(False)\n",
        "\n",
        "  return sum([x*y for x, y in zip([calcula_sinal(i) for i in predicoes], stumps['alpha'])])"
      ],
      "execution_count": 7,
      "outputs": []
    },
    {
      "cell_type": "markdown",
      "metadata": {
        "id": "9Xu46nz7x_VR"
      },
      "source": [
        "A função **predicao_classe** recebe o valor da soma ponderada da última função e se maior que 0 estima na classe positiva, se negativo faz a estimação do Adaboost para a observação na classe negativa."
      ]
    },
    {
      "cell_type": "code",
      "metadata": {
        "id": "Fkj_DVjxI4L9"
      },
      "source": [
        "def predicao_classe(valor, classes):\n",
        "#\"\"\"\n",
        "#Argumentos:\n",
        "#  @ valor: float com o valor da soma ponderada dos classificadores fracos e seus respectivos alphas\n",
        "#  @ classes: dicionario com o nome da classe positiva e classe negativa do problema em questão. \n",
        "#--------------------------------------------------------------------------------------------------\n",
        "#Explicação funcionamento da função:\n",
        "#  @ Se o valor da soma ponderada é maior ou igual a 0 então a observação é classificada na classe positiva.\n",
        "#    Se o valor da soma ponderada é menor que 0 então a observação é classficada na classe negativa.\n",
        "#\"\"\"  \n",
        "  if valor >= 0:\n",
        "    return classes['classe_positiva']\n",
        "  else:\n",
        "    return classes['classe_negativa']"
      ],
      "execution_count": 8,
      "outputs": []
    },
    {
      "cell_type": "markdown",
      "metadata": {
        "id": "2_p6dDcR1pgI"
      },
      "source": [
        "Já a função **predicao_probs** recebe os mesmos argumentos que a função **predicao_classe** e daí usa os valores das somas dos pesos $\\alpha's$ para calcular uma estimativa feita por mim de probabilidade da observação estar em cada uma das classes.\n"
      ]
    },
    {
      "cell_type": "code",
      "metadata": {
        "id": "WoUELCfY1pNh"
      },
      "source": [
        "def predicao_probs(novo_x, stumps):\n",
        "#\"\"\"\n",
        "#Argumentos:\n",
        "#  @ valor: float com o valor da soma ponderada dos classificadores fracos e seus respectivos alphas\n",
        "#  @ classes: dicionario com o nome da classe positiva e classe negativa do problema em questão. \n",
        "#--------------------------------------------------------------------------------------------------\n",
        "#Explicação funcionamento da função:\n",
        "#  @ Essa função soma os valores de alpha nas predicoes das stumps onde a classe negativa foi estimada \n",
        "#    e também para a classe positiva. Daí faz uma soma dos desses dos valores positivos desses dois \n",
        "#    objetos e daí os divide para ter uma estimativa de probabilidades. Se a soma dos alphas  das stumps \n",
        "#    onde a observação é estimada na classe positiva é muito maior que a soma dos alphas das stumps onde \n",
        "#    a observação é estimada na classe negativa, então a probabilidade de cair na classe positiva é alta.\n",
        "#    Se a soma ponderada dos alphas das stumps pela estimativa das mesmas é próxima de 0, a probabilidade\n",
        "#    de pertencer a cada uma das classes estará próxima de 50%.\n",
        "#\"\"\"    \n",
        "  predicoes = []\n",
        "  for item in range(stumps.shape[0]):\n",
        "    if isinstance(stumps['variavel'][item], str):\n",
        "      predicoes.append( novo_x[stumps['variavel'][item]].iloc[0] == stumps['valor'][item])\n",
        "    elif stumps['variavel'][item] == True :\n",
        "      predicoes.append(True)\n",
        "    else:\n",
        "      predicoes.append(False)\n",
        "\n",
        "  predicao = [calcula_sinal(item) for item in predicoes]\n",
        "  soma_alpha_negativo = sum([predicao[i]*stumps['alpha'].to_list()[i] for i in range(len(predicao)) if predicao[i] == -1])\n",
        "  soma_alpha_positivo = sum([predicao[i]*stumps['alpha'].to_list()[i] for i in range(len(predicao)) if predicao[i] == 1])\n",
        "\n",
        "  soma_total = soma_alpha_positivo + abs(soma_alpha_negativo)\n",
        "\n",
        "  return pd.DataFrame({'prob_classe_positiva': soma_alpha_positivo/soma_total, 'prob_classe_negativa': abs(soma_alpha_negativo)/soma_total}, index = [0])"
      ],
      "execution_count": 9,
      "outputs": []
    },
    {
      "cell_type": "markdown",
      "metadata": {
        "id": "NVrV7XEo4C8L"
      },
      "source": [
        "O último passo da implementação do algoritmo é apenas a criação da classe Adaboost que concatenará todo o pipeline feito nas funções das implementações. O objetivo foi deixar essa classe bem parecida com classificadores do sklearn."
      ]
    },
    {
      "cell_type": "code",
      "metadata": {
        "id": "PPXxD_pXFUqe"
      },
      "source": [
        "class Adaboost:\n",
        "  def __init__(self, num_iteracoes):\n",
        "    self.num_iteracoes = num_iteracoes\n",
        "    self.classificador = None\n",
        "    self.classes = None\n",
        "  \n",
        "  def ajuste(self, X, y, classe_positiva):\n",
        "    self.classificador = executa_adaboost(X = X, y = y, classe_positiva = classe_positiva, num_iteracoes = self.num_iteracoes)\n",
        "    self.classes = {'classe_positiva': classe_positiva, 'classe_negativa': list(y.unique())[list(y.unique()) != classe_positiva]}\n",
        "  \n",
        "  def predicao(self, X):\n",
        "    valores = [predicao_valor(novo_x = X.iloc[[item]], stumps = self.classificador['stumps']) for item in range(X.shape[0])]\n",
        "    predicao_classes = [predicao_classe(valor = item, classes = self.classes) for item in valores]\n",
        "    predicao_probas = pd.concat([predicao_probs(novo_x = X.iloc[[item]], stumps = self.classificador['stumps']) for item in range(X.shape[0])])\n",
        "    predicao_probas.index = range(predicao_probas.shape[0])\n",
        "    return {'classes': predicao_classes, 'probs': predicao_probas}"
      ],
      "execution_count": 10,
      "outputs": []
    },
    {
      "cell_type": "markdown",
      "metadata": {
        "id": "qG9wYGlE_isV"
      },
      "source": [
        "### **Leitura dos dados**\n",
        "\n",
        "Eu também vou criar uma função para leitura dos dados dos jogos. Para facilitar eu fiz upload dos dados no github, lá há um pequeno problema que a função de leitura de csv do pandas não consegue lidar e por isso vou criar uma função para isso."
      ]
    },
    {
      "cell_type": "code",
      "metadata": {
        "id": "rHp6ymGgAJWx"
      },
      "source": [
        "def leitura_jogos(link):\n",
        "  tbl_jogos = pd.read_csv(link, sep = '\\n', header = None, names = ['jogos'])\n",
        "  lst_jogos = tbl_jogos['jogos'].str.split(',', 10).to_list()\n",
        "  return pd.DataFrame(lst_jogos, columns = ['sup.esq', 'sup.cen', 'sup.dir', 'meio.esq','meio.cen', 'meio.dir', 'inf.esq', 'inf.cen', 'inf.dir', 'resposta'])\n"
      ],
      "execution_count": 11,
      "outputs": []
    },
    {
      "cell_type": "markdown",
      "metadata": {
        "id": "MBv4CdAZBDeP"
      },
      "source": [
        "### **Avaliação dos resultados**\n",
        "\n",
        "A próxima função vai executar a validação cruzada para determinado número de iterações do Adaboost. Essa função está salvando a acurácia em cada uma dos 5 folds que haverá na validação cruzada."
      ]
    },
    {
      "cell_type": "code",
      "metadata": {
        "id": "aEhVo3YfJFfm"
      },
      "source": [
        "def executa_validacao_cruzada(X, y, classe_positiva, num_iteracoes, cv = 5):\n",
        "  validacao_cruzada = StratifiedKFold(n_splits = cv, shuffle = True, random_state = 25031908)\n",
        "  lst_acuracia = []\n",
        "\n",
        "  print(\"Número de classificadores: \" + str(num_iteracoes))\n",
        "  iteracao_fold = 1\n",
        "  # para cada conjunto de 4 folds é ajustado o classificador, depois ajustada as metricas no fold de teste\n",
        "  for treino, teste in validacao_cruzada.split(X, y):\n",
        "  # ajustando o classificador\n",
        "    print(\"   Ajustando classificador Adaboost no fold\" + str(iteracao_fold))\n",
        "    classificador_adaboost = Adaboost(num_iteracoes = num_iteracoes)\n",
        "    classificador_adaboost.ajuste(X = X.iloc[treino], y = y.iloc[treino], \n",
        "                                  classe_positiva = classe_positiva)\n",
        "\n",
        "    predicao_adaboost_teste = classificador_adaboost.predicao(X.iloc[teste])\n",
        "    acuracia = sum(predicao_adaboost_teste['classes'] == y.iloc[teste])/len(y.iloc[teste])\n",
        "\n",
        "    lst_acuracia.append(acuracia)\n",
        "    iteracao_fold += 1\n",
        "  return {'acuracia': lst_acuracia}"
      ],
      "execution_count": 12,
      "outputs": []
    },
    {
      "cell_type": "markdown",
      "metadata": {
        "id": "GDND-Wc7TkKn"
      },
      "source": [
        "Realizando a leitura dos dados:"
      ]
    },
    {
      "cell_type": "code",
      "metadata": {
        "id": "urhKxoEAEzht"
      },
      "source": [
        "xdf = leitura_jogos(\"https://raw.githubusercontent.com/gustavohpgodinho/ml_trabalho2/main/tic-tac-toe.data\")"
      ],
      "execution_count": 13,
      "outputs": []
    },
    {
      "cell_type": "markdown",
      "metadata": {
        "id": "80JM0NxOTrJl"
      },
      "source": [
        "Fazendo a validação cruzada para múltiplos valores de número de iterações:"
      ]
    },
    {
      "cell_type": "code",
      "metadata": {
        "colab": {
          "base_uri": "https://localhost:8080/"
        },
        "id": "CyeH007QMokW",
        "outputId": "88556db2-11eb-4686-be40-823893260769"
      },
      "source": [
        "# APROXIMADAMENTE 11 MINUTOS PARA EXECUTAR\n",
        "lst_num_iteracoes = [1, 2, 5, 10, 20, 50, 100, 200, 500]\n",
        "resultados_validacao_cruzada = [executa_validacao_cruzada(X = xdf.drop(\"resposta\", axis = 1), y = xdf['resposta'], classe_positiva = 'positive', num_iteracoes = i) for i in lst_num_iteracoes]"
      ],
      "execution_count": 14,
      "outputs": [
        {
          "output_type": "stream",
          "name": "stdout",
          "text": [
            "Número de classificadores: 1\n",
            "   Ajustando classificador Adaboost no fold1\n",
            "   Ajustando classificador Adaboost no fold2\n",
            "   Ajustando classificador Adaboost no fold3\n",
            "   Ajustando classificador Adaboost no fold4\n",
            "   Ajustando classificador Adaboost no fold5\n",
            "Número de classificadores: 2\n",
            "   Ajustando classificador Adaboost no fold1\n",
            "   Ajustando classificador Adaboost no fold2\n",
            "   Ajustando classificador Adaboost no fold3\n",
            "   Ajustando classificador Adaboost no fold4\n",
            "   Ajustando classificador Adaboost no fold5\n",
            "Número de classificadores: 5\n",
            "   Ajustando classificador Adaboost no fold1\n",
            "   Ajustando classificador Adaboost no fold2\n",
            "   Ajustando classificador Adaboost no fold3\n",
            "   Ajustando classificador Adaboost no fold4\n",
            "   Ajustando classificador Adaboost no fold5\n",
            "Número de classificadores: 10\n",
            "   Ajustando classificador Adaboost no fold1\n",
            "   Ajustando classificador Adaboost no fold2\n",
            "   Ajustando classificador Adaboost no fold3\n",
            "   Ajustando classificador Adaboost no fold4\n",
            "   Ajustando classificador Adaboost no fold5\n",
            "Número de classificadores: 20\n",
            "   Ajustando classificador Adaboost no fold1\n",
            "   Ajustando classificador Adaboost no fold2\n",
            "   Ajustando classificador Adaboost no fold3\n",
            "   Ajustando classificador Adaboost no fold4\n",
            "   Ajustando classificador Adaboost no fold5\n",
            "Número de classificadores: 50\n",
            "   Ajustando classificador Adaboost no fold1\n",
            "   Ajustando classificador Adaboost no fold2\n",
            "   Ajustando classificador Adaboost no fold3\n",
            "   Ajustando classificador Adaboost no fold4\n",
            "   Ajustando classificador Adaboost no fold5\n",
            "Número de classificadores: 100\n",
            "   Ajustando classificador Adaboost no fold1\n",
            "   Ajustando classificador Adaboost no fold2\n",
            "   Ajustando classificador Adaboost no fold3\n",
            "   Ajustando classificador Adaboost no fold4\n",
            "   Ajustando classificador Adaboost no fold5\n",
            "Número de classificadores: 200\n",
            "   Ajustando classificador Adaboost no fold1\n",
            "   Ajustando classificador Adaboost no fold2\n",
            "   Ajustando classificador Adaboost no fold3\n",
            "   Ajustando classificador Adaboost no fold4\n",
            "   Ajustando classificador Adaboost no fold5\n",
            "Número de classificadores: 500\n",
            "   Ajustando classificador Adaboost no fold1\n",
            "   Ajustando classificador Adaboost no fold2\n",
            "   Ajustando classificador Adaboost no fold3\n",
            "   Ajustando classificador Adaboost no fold4\n",
            "   Ajustando classificador Adaboost no fold5\n"
          ]
        }
      ]
    },
    {
      "cell_type": "markdown",
      "metadata": {
        "id": "lWwEp2ANdNj4"
      },
      "source": [
        "Construindo um dataframe da acurácia em cada um dos folds pelo número de iterações feitas no Adaboost:"
      ]
    },
    {
      "cell_type": "code",
      "metadata": {
        "id": "iCl-8YUiZtYB"
      },
      "source": [
        "df_acuracia = pd.DataFrame({\n",
        "    'num_iteracoes': lst_num_iteracoes,\n",
        "    'acuracia_teste_split0': [resultados_validacao_cruzada[item]['acuracia'][0] for item in range(len(lst_num_iteracoes))],\n",
        "    'acuracia_teste_split1': [resultados_validacao_cruzada[item]['acuracia'][1] for item in range(len(lst_num_iteracoes))],\n",
        "    'acuracia_teste_split2': [resultados_validacao_cruzada[item]['acuracia'][2] for item in range(len(lst_num_iteracoes))],\n",
        "    'acuracia_teste_split3': [resultados_validacao_cruzada[item]['acuracia'][3] for item in range(len(lst_num_iteracoes))],\n",
        "    'acuracia_teste_split4': [resultados_validacao_cruzada[item]['acuracia'][4] for item in range(len(lst_num_iteracoes))],\n",
        "    'acuracia_teste_media': [np.mean(resultados_validacao_cruzada[item]['acuracia']) for item in range(len(lst_num_iteracoes))],\n",
        "    'acuracia_teste_std': [np.std(resultados_validacao_cruzada[item]['acuracia']) for item in range(len(lst_num_iteracoes))]})"
      ],
      "execution_count": 15,
      "outputs": []
    },
    {
      "cell_type": "markdown",
      "metadata": {
        "id": "YDFcJ2ETdcbS"
      },
      "source": [
        "Veja que a medida que o número de iterações cresce, a acurácia média no fold de teste também cresce. "
      ]
    },
    {
      "cell_type": "code",
      "metadata": {
        "colab": {
          "base_uri": "https://localhost:8080/",
          "height": 331
        },
        "id": "WFjJtY09dYBx",
        "outputId": "dd781b42-5f23-450e-9789-73c7f4cfee09"
      },
      "source": [
        "df_acuracia"
      ],
      "execution_count": 16,
      "outputs": [
        {
          "output_type": "execute_result",
          "data": {
            "text/html": [
              "<div>\n",
              "<style scoped>\n",
              "    .dataframe tbody tr th:only-of-type {\n",
              "        vertical-align: middle;\n",
              "    }\n",
              "\n",
              "    .dataframe tbody tr th {\n",
              "        vertical-align: top;\n",
              "    }\n",
              "\n",
              "    .dataframe thead th {\n",
              "        text-align: right;\n",
              "    }\n",
              "</style>\n",
              "<table border=\"1\" class=\"dataframe\">\n",
              "  <thead>\n",
              "    <tr style=\"text-align: right;\">\n",
              "      <th></th>\n",
              "      <th>num_iteracoes</th>\n",
              "      <th>acuracia_teste_split0</th>\n",
              "      <th>acuracia_teste_split1</th>\n",
              "      <th>acuracia_teste_split2</th>\n",
              "      <th>acuracia_teste_split3</th>\n",
              "      <th>acuracia_teste_split4</th>\n",
              "      <th>acuracia_teste_media</th>\n",
              "      <th>acuracia_teste_std</th>\n",
              "    </tr>\n",
              "  </thead>\n",
              "  <tbody>\n",
              "    <tr>\n",
              "      <th>0</th>\n",
              "      <td>1</td>\n",
              "      <td>0.656250</td>\n",
              "      <td>0.651042</td>\n",
              "      <td>0.651042</td>\n",
              "      <td>0.654450</td>\n",
              "      <td>0.654450</td>\n",
              "      <td>0.653447</td>\n",
              "      <td>0.002071</td>\n",
              "    </tr>\n",
              "    <tr>\n",
              "      <th>1</th>\n",
              "      <td>2</td>\n",
              "      <td>0.604167</td>\n",
              "      <td>0.651042</td>\n",
              "      <td>0.651042</td>\n",
              "      <td>0.602094</td>\n",
              "      <td>0.654450</td>\n",
              "      <td>0.632559</td>\n",
              "      <td>0.024069</td>\n",
              "    </tr>\n",
              "    <tr>\n",
              "      <th>2</th>\n",
              "      <td>5</td>\n",
              "      <td>0.671875</td>\n",
              "      <td>0.729167</td>\n",
              "      <td>0.692708</td>\n",
              "      <td>0.732984</td>\n",
              "      <td>0.743455</td>\n",
              "      <td>0.714038</td>\n",
              "      <td>0.027151</td>\n",
              "    </tr>\n",
              "    <tr>\n",
              "      <th>3</th>\n",
              "      <td>10</td>\n",
              "      <td>0.708333</td>\n",
              "      <td>0.791667</td>\n",
              "      <td>0.729167</td>\n",
              "      <td>0.759162</td>\n",
              "      <td>0.769634</td>\n",
              "      <td>0.751592</td>\n",
              "      <td>0.029540</td>\n",
              "    </tr>\n",
              "    <tr>\n",
              "      <th>4</th>\n",
              "      <td>20</td>\n",
              "      <td>0.713542</td>\n",
              "      <td>0.770833</td>\n",
              "      <td>0.760417</td>\n",
              "      <td>0.764398</td>\n",
              "      <td>0.764398</td>\n",
              "      <td>0.754717</td>\n",
              "      <td>0.020857</td>\n",
              "    </tr>\n",
              "    <tr>\n",
              "      <th>5</th>\n",
              "      <td>50</td>\n",
              "      <td>0.692708</td>\n",
              "      <td>0.776042</td>\n",
              "      <td>0.755208</td>\n",
              "      <td>0.748691</td>\n",
              "      <td>0.748691</td>\n",
              "      <td>0.744268</td>\n",
              "      <td>0.027665</td>\n",
              "    </tr>\n",
              "    <tr>\n",
              "      <th>6</th>\n",
              "      <td>100</td>\n",
              "      <td>0.744792</td>\n",
              "      <td>0.791667</td>\n",
              "      <td>0.786458</td>\n",
              "      <td>0.790576</td>\n",
              "      <td>0.785340</td>\n",
              "      <td>0.779767</td>\n",
              "      <td>0.017650</td>\n",
              "    </tr>\n",
              "    <tr>\n",
              "      <th>7</th>\n",
              "      <td>200</td>\n",
              "      <td>0.822917</td>\n",
              "      <td>0.833333</td>\n",
              "      <td>0.854167</td>\n",
              "      <td>0.832461</td>\n",
              "      <td>0.858639</td>\n",
              "      <td>0.840303</td>\n",
              "      <td>0.013717</td>\n",
              "    </tr>\n",
              "    <tr>\n",
              "      <th>8</th>\n",
              "      <td>500</td>\n",
              "      <td>0.958333</td>\n",
              "      <td>0.973958</td>\n",
              "      <td>0.963542</td>\n",
              "      <td>0.947644</td>\n",
              "      <td>0.973822</td>\n",
              "      <td>0.963460</td>\n",
              "      <td>0.009940</td>\n",
              "    </tr>\n",
              "  </tbody>\n",
              "</table>\n",
              "</div>"
            ],
            "text/plain": [
              "   num_iteracoes  ...  acuracia_teste_std\n",
              "0              1  ...            0.002071\n",
              "1              2  ...            0.024069\n",
              "2              5  ...            0.027151\n",
              "3             10  ...            0.029540\n",
              "4             20  ...            0.020857\n",
              "5             50  ...            0.027665\n",
              "6            100  ...            0.017650\n",
              "7            200  ...            0.013717\n",
              "8            500  ...            0.009940\n",
              "\n",
              "[9 rows x 8 columns]"
            ]
          },
          "metadata": {},
          "execution_count": 16
        }
      ]
    },
    {
      "cell_type": "markdown",
      "metadata": {
        "id": "2Qf6z-2sdm4N"
      },
      "source": [
        "A figura da acurácia média em teste por número de iterações do algoritmo Adaboost:"
      ]
    },
    {
      "cell_type": "code",
      "metadata": {
        "colab": {
          "base_uri": "https://localhost:8080/",
          "height": 628
        },
        "id": "mNQ_3cN1Xf7p",
        "outputId": "56f70fad-3464-4e8d-8edb-a238f00ab455"
      },
      "source": [
        "plt.figure(figsize = (10, 10))\n",
        "plt.plot('num_iteracoes', 'acuracia_teste_media', data = df_acuracia, \n",
        "         marker = 'o', markerfacecolor = 'royalblue', markersize = 4, \n",
        "         color = 'royalblue', linewidth = 1)\n",
        "plt.title('Acurácia média em teste variando o número de iterações', fontsize = 16)\n",
        "plt.xlabel('Número de iterações', fontsize = 12)\n",
        "plt.ylabel('Acurácia média', fontsize = 12)\n",
        "axes = plt.gca()\n",
        "plt.show()"
      ],
      "execution_count": 17,
      "outputs": [
        {
          "output_type": "display_data",
          "data": {
            "image/png": "[encoded data removed]",
            "text/plain": [
              "<Figure size 720x720 with 1 Axes>"
            ]
          },
          "metadata": {
            "needs_background": "light"
          }
        }
      ]
    },
    {
      "cell_type": "markdown",
      "metadata": {
        "id": "EfLLGA2-dxIo"
      },
      "source": [
        "Para o classificador Adaboost com 500 iterações, vamos reajustá-lo usando todos os dados e verificando mais detalhes desse classificador: "
      ]
    },
    {
      "cell_type": "code",
      "metadata": {
        "id": "MCwDXbGmYKon"
      },
      "source": [
        "# APROXIMADAMENTE 1 MINUTO E MEIO PARA EXECUTAR\n",
        "clf = Adaboost(num_iteracoes = 500)\n",
        "clf.ajuste(X = xdf.drop(\"resposta\", axis = 1), y = xdf['resposta'], classe_positiva = 'positive')"
      ],
      "execution_count": 18,
      "outputs": []
    },
    {
      "cell_type": "markdown",
      "metadata": {
        "id": "kfymMMZ_fJds"
      },
      "source": [
        "A seguir fiz um gráfico dos valores das *decisions stumps*. Veja que as primeiras *decisions stumps* são as mais importantes para a decisão final do algoritmo."
      ]
    },
    {
      "cell_type": "code",
      "metadata": {
        "colab": {
          "base_uri": "https://localhost:8080/",
          "height": 627
        },
        "id": "_KsUwMB_ejuN",
        "outputId": "f13017cf-456b-46d6-f7bf-a6032a88c631"
      },
      "source": [
        "plt.figure(figsize = (10, 10))\n",
        "plt.plot(clf.classificador['stumps']['alpha'], \n",
        "         marker = 'o', markerfacecolor = 'tomato', markersize = 4, \n",
        "         color = 'tomato', linewidth = 1)\n",
        "plt.title('Peso alfa das decisions stumps do Adaboost', fontsize = 16)\n",
        "plt.xlabel('Decision Stump', fontsize = 12)\n",
        "plt.ylabel('Valor alfa', fontsize = 12)\n",
        "axes = plt.gca()\n",
        "plt.show()"
      ],
      "execution_count": 19,
      "outputs": [
        {
          "output_type": "display_data",
          "data": {
            "image/png": "[encoded data removed]",
            "text/plain": [
              "<Figure size 720x720 with 1 Axes>"
            ]
          },
          "metadata": {
            "needs_background": "light"
          }
        }
      ]
    },
    {
      "cell_type": "markdown",
      "metadata": {
        "id": "AtcttBerf4pt"
      },
      "source": [
        "Observando quais foram as *decisions stumps* que mais apareceram entre os classificadores fracos. Veja que dizer que todos os jogos levam a vitória do jogador 'x' foi o que mais apareceu, a diagonal principal do jogo da velha e a diagonal secundária marcadas com \"x\" são as *decisions stumps* com variáveis que mais apareceram para levar a vitória o jogador \"x\"."
      ]
    },
    {
      "cell_type": "code",
      "metadata": {
        "colab": {
          "base_uri": "https://localhost:8080/"
        },
        "id": "uJh3-3XDjtaq",
        "outputId": "691b493e-d600-486b-d571-b4a685f06f02"
      },
      "source": [
        "df_resultados_stumps = clf.classificador['stumps'][['variavel', 'valor']]\n",
        "df_resultados_stumps.loc[:, 'valor'] = [str(x) for x in (df_resultados_stumps['valor'])]\n",
        "df_resultados_stumps.value_counts()"
      ],
      "execution_count": 20,
      "outputs": [
        {
          "output_type": "stream",
          "name": "stderr",
          "text": [
            "/usr/local/lib/python3.7/dist-packages/pandas/core/indexing.py:1781: SettingWithCopyWarning: \n",
            "A value is trying to be set on a copy of a slice from a DataFrame.\n",
            "Try using .loc[row_indexer,col_indexer] = value instead\n",
            "\n",
            "See the caveats in the documentation: https://pandas.pydata.org/pandas-docs/stable/user_guide/indexing.html#returning-a-view-versus-a-copy\n",
            "  self.obj[item_labels[indexer[info_axis]]] = value\n"
          ]
        },
        {
          "output_type": "execute_result",
          "data": {
            "text/plain": [
              "variavel  valor\n",
              "True      None     121\n",
              "meio.cen  x         30\n",
              "sup.esq   x         30\n",
              "sup.dir   x         29\n",
              "inf.esq   x         29\n",
              "inf.dir   x         29\n",
              "meio.esq  x         27\n",
              "meio.dir  x         27\n",
              "inf.cen   x         27\n",
              "sup.cen   x         26\n",
              "meio.cen  b         16\n",
              "sup.dir   b         15\n",
              "inf.dir   b         15\n",
              "sup.esq   b         14\n",
              "inf.esq   b         14\n",
              "meio.esq  b         13\n",
              "inf.cen   b         13\n",
              "meio.dir  b         13\n",
              "sup.cen   b         12\n",
              "dtype: int64"
            ]
          },
          "metadata": {},
          "execution_count": 20
        }
      ]
    },
    {
      "cell_type": "markdown",
      "metadata": {
        "id": "x1jox38DlTv-"
      },
      "source": [
        "A descrição dos valores de erro das stumps e alpha ao longo das iterações:"
      ]
    },
    {
      "cell_type": "code",
      "metadata": {
        "colab": {
          "base_uri": "https://localhost:8080/",
          "height": 299
        },
        "id": "hSIo8ZWffbm7",
        "outputId": "a394ef32-b6bf-463a-84f7-d17149a6fb14"
      },
      "source": [
        "clf.classificador['stumps'].describe()"
      ],
      "execution_count": 21,
      "outputs": [
        {
          "output_type": "execute_result",
          "data": {
            "text/html": [
              "<div>\n",
              "<style scoped>\n",
              "    .dataframe tbody tr th:only-of-type {\n",
              "        vertical-align: middle;\n",
              "    }\n",
              "\n",
              "    .dataframe tbody tr th {\n",
              "        vertical-align: top;\n",
              "    }\n",
              "\n",
              "    .dataframe thead th {\n",
              "        text-align: right;\n",
              "    }\n",
              "</style>\n",
              "<table border=\"1\" class=\"dataframe\">\n",
              "  <thead>\n",
              "    <tr style=\"text-align: right;\">\n",
              "      <th></th>\n",
              "      <th>erro_stump</th>\n",
              "      <th>alpha</th>\n",
              "    </tr>\n",
              "  </thead>\n",
              "  <tbody>\n",
              "    <tr>\n",
              "      <th>count</th>\n",
              "      <td>500.000000</td>\n",
              "      <td>500.000000</td>\n",
              "    </tr>\n",
              "    <tr>\n",
              "      <th>mean</th>\n",
              "      <td>0.473374</td>\n",
              "      <td>0.053354</td>\n",
              "    </tr>\n",
              "    <tr>\n",
              "      <th>std</th>\n",
              "      <td>0.010653</td>\n",
              "      <td>0.021871</td>\n",
              "    </tr>\n",
              "    <tr>\n",
              "      <th>min</th>\n",
              "      <td>0.346222</td>\n",
              "      <td>0.035768</td>\n",
              "    </tr>\n",
              "    <tr>\n",
              "      <th>25%</th>\n",
              "      <td>0.472630</td>\n",
              "      <td>0.045557</td>\n",
              "    </tr>\n",
              "    <tr>\n",
              "      <th>50%</th>\n",
              "      <td>0.475092</td>\n",
              "      <td>0.049858</td>\n",
              "    </tr>\n",
              "    <tr>\n",
              "      <th>75%</th>\n",
              "      <td>0.477237</td>\n",
              "      <td>0.054795</td>\n",
              "    </tr>\n",
              "    <tr>\n",
              "      <th>max</th>\n",
              "      <td>0.482123</td>\n",
              "      <td>0.317844</td>\n",
              "    </tr>\n",
              "  </tbody>\n",
              "</table>\n",
              "</div>"
            ],
            "text/plain": [
              "       erro_stump       alpha\n",
              "count  500.000000  500.000000\n",
              "mean     0.473374    0.053354\n",
              "std      0.010653    0.021871\n",
              "min      0.346222    0.035768\n",
              "25%      0.472630    0.045557\n",
              "50%      0.475092    0.049858\n",
              "75%      0.477237    0.054795\n",
              "max      0.482123    0.317844"
            ]
          },
          "metadata": {},
          "execution_count": 21
        }
      ]
    },
    {
      "cell_type": "markdown",
      "metadata": {
        "id": "AxScx0jal7zx"
      },
      "source": [
        "Sumarização da média dos pesos das observações em cada uma das iterações. Se nota que uma das iterações teve média igual a 0,004701, esse valor é cerca de 4,50 vezes maior que a média da média dos pesos das observações."
      ]
    },
    {
      "cell_type": "code",
      "metadata": {
        "colab": {
          "base_uri": "https://localhost:8080/"
        },
        "id": "UXK2PJMXF4NS",
        "outputId": "68fb2f70-2f97-4703-dca8-7cf166377578"
      },
      "source": [
        "np.mean(clf.classificador['pesos'], axis = 1).describe()"
      ],
      "execution_count": 22,
      "outputs": [
        {
          "output_type": "execute_result",
          "data": {
            "text/plain": [
              "count    958.000000\n",
              "mean       0.001044\n",
              "std        0.000640\n",
              "min        0.000243\n",
              "25%        0.000629\n",
              "50%        0.000833\n",
              "75%        0.001393\n",
              "max        0.004701\n",
              "dtype: float64"
            ]
          },
          "metadata": {},
          "execution_count": 22
        }
      ]
    },
    {
      "cell_type": "markdown",
      "metadata": {
        "id": "gjVOgyy-qSlJ"
      },
      "source": [
        "Pesos da primeira observação ao longo das iterações. Note que o erro vai crescendo ao longo das iterações, sendo a maior parte do tempo maior que a média dos pesos das outras observações."
      ]
    },
    {
      "cell_type": "code",
      "metadata": {
        "colab": {
          "base_uri": "https://localhost:8080/",
          "height": 627
        },
        "id": "rNvrZHPUn_Sk",
        "outputId": "6306a718-c19a-4a96-c93b-7c189ad95039"
      },
      "source": [
        "plt.figure(figsize = (10, 10))\n",
        "plt.plot(clf.classificador['pesos'].iloc[0,:], \n",
        "         marker = 'o', markerfacecolor = 'tomato', markersize = 4, \n",
        "         color = 'tomato', linewidth = 1)\n",
        "plt.title('Peso da primeira observação ao longo das iterações do Adaboost', fontsize = 16)\n",
        "plt.xlabel('Peso observação', fontsize = 12)\n",
        "plt.ylabel('Valor peso', fontsize = 12)\n",
        "axes = plt.gca()\n",
        "plt.show()"
      ],
      "execution_count": 23,
      "outputs": [
        {
          "output_type": "display_data",
          "data": {
            "image/png": "[encoded data removed]",
            "text/plain": [
              "<Figure size 720x720 with 1 Axes>"
            ]
          },
          "metadata": {
            "needs_background": "light"
          }
        }
      ]
    },
    {
      "cell_type": "markdown",
      "metadata": {
        "id": "HmbLy-eCmYst"
      },
      "source": [
        "# **Conclusão**\n",
        "\n",
        "Nesse trabalho foi implementando o **algoritmo ensemble Adaboost** para tentar classificar corretamente o problema de classificação binária que é o jogo da velha. Chegamos a resultados bem sólidos e acredito que a implementação do algoritmo ficou bem executada e com documentação clara."
      ]
    }
  ]
}